{
 "cells": [
  {
   "attachments": {},
   "cell_type": "markdown",
   "metadata": {},
   "source": [
    "# ANN vs CNN on Cifar10"
   ]
  },
  {
   "cell_type": "code",
   "execution_count": 7,
   "metadata": {},
   "outputs": [],
   "source": [
    "import tensorflow as tf\n",
    "from tensorflow import keras\n",
    "import numpy as np\n",
    "from sklearn.model_selection import train_test_split"
   ]
  },
  {
   "cell_type": "code",
   "execution_count": 8,
   "metadata": {},
   "outputs": [
    {
     "data": {
      "text/plain": [
       "[PhysicalDevice(name='/physical_device:CPU:0', device_type='CPU')]"
      ]
     },
     "execution_count": 8,
     "metadata": {},
     "output_type": "execute_result"
    }
   ],
   "source": [
    "tf.config.experimental.list_physical_devices()"
   ]
  },
  {
   "cell_type": "code",
   "execution_count": 2,
   "metadata": {},
   "outputs": [],
   "source": [
    "(x_train, y_train), (x_test, y_test) = tf.keras.datasets.cifar10.load_data()"
   ]
  },
  {
   "cell_type": "code",
   "execution_count": 3,
   "metadata": {},
   "outputs": [
    {
     "data": {
      "text/plain": [
       "(50000, 32, 32, 3)"
      ]
     },
     "execution_count": 3,
     "metadata": {},
     "output_type": "execute_result"
    }
   ],
   "source": [
    "x_train.shape"
   ]
  },
  {
   "cell_type": "code",
   "execution_count": 4,
   "metadata": {},
   "outputs": [],
   "source": [
    "\n",
    "x_train = x_train.astype('float32') / 255\n",
    "x_test = x_test.astype('float32') / 255"
   ]
  },
  {
   "cell_type": "code",
   "execution_count": 5,
   "metadata": {},
   "outputs": [
    {
     "data": {
      "text/plain": [
       "(32, 32, 3)"
      ]
     },
     "execution_count": 5,
     "metadata": {},
     "output_type": "execute_result"
    }
   ],
   "source": [
    "x_train[0].shape"
   ]
  },
  {
   "cell_type": "code",
   "execution_count": 6,
   "metadata": {},
   "outputs": [],
   "source": [
    "x_train, x_val, y_train, y_val = train_test_split(x_train, y_train, test_size=0.2, random_state=42)"
   ]
  },
  {
   "cell_type": "markdown",
   "metadata": {},
   "source": [
    "# $ 1. Artificial Neural Network $"
   ]
  },
  {
   "cell_type": "code",
   "execution_count": 32,
   "metadata": {},
   "outputs": [
    {
     "name": "stdout",
     "output_type": "stream",
     "text": [
      "Epoch 1/10\n",
      "1250/1250 [==============================] - 3s 2ms/step - loss: 1.9140 - accuracy: 0.3083 - val_loss: 1.8072 - val_accuracy: 0.3407\n",
      "Epoch 2/10\n",
      "1250/1250 [==============================] - 4s 3ms/step - loss: 1.7429 - accuracy: 0.3740 - val_loss: 1.7071 - val_accuracy: 0.3908\n",
      "Epoch 3/10\n",
      "1250/1250 [==============================] - 4s 3ms/step - loss: 1.6705 - accuracy: 0.4000 - val_loss: 1.6401 - val_accuracy: 0.4114\n",
      "Epoch 4/10\n",
      "1250/1250 [==============================] - 4s 3ms/step - loss: 1.6216 - accuracy: 0.4206 - val_loss: 1.6305 - val_accuracy: 0.4105\n",
      "Epoch 5/10\n",
      "1250/1250 [==============================] - 4s 3ms/step - loss: 1.5772 - accuracy: 0.4341 - val_loss: 1.6081 - val_accuracy: 0.4231\n",
      "Epoch 6/10\n",
      "1250/1250 [==============================] - 4s 3ms/step - loss: 1.5547 - accuracy: 0.4420 - val_loss: 1.5977 - val_accuracy: 0.4301\n",
      "Epoch 7/10\n",
      "1250/1250 [==============================] - 4s 3ms/step - loss: 1.5282 - accuracy: 0.4545 - val_loss: 1.5489 - val_accuracy: 0.4424\n",
      "Epoch 8/10\n",
      "1250/1250 [==============================] - 4s 3ms/step - loss: 1.5072 - accuracy: 0.4601 - val_loss: 1.5936 - val_accuracy: 0.4386\n",
      "Epoch 9/10\n",
      "1250/1250 [==============================] - 3s 3ms/step - loss: 1.4845 - accuracy: 0.4694 - val_loss: 1.5391 - val_accuracy: 0.4456\n",
      "Epoch 10/10\n",
      "1250/1250 [==============================] - 4s 3ms/step - loss: 1.4717 - accuracy: 0.4750 - val_loss: 1.5226 - val_accuracy: 0.4578\n"
     ]
    },
    {
     "data": {
      "text/plain": [
       "<keras.callbacks.History at 0x18f9f188ac0>"
      ]
     },
     "execution_count": 32,
     "metadata": {},
     "output_type": "execute_result"
    }
   ],
   "source": [
    "model = keras.Sequential([\n",
    "    keras.layers.Flatten(input_shape=(32, 32, 3)),\n",
    "    keras.layers.Dense(128, activation='relu'),\n",
    "    keras.layers.Dense(64, activation='relu'),\n",
    "    keras.layers.Dense(10, activation='sigmoid')\n",
    "])\n",
    "\n",
    "model.compile(optimizer='adam',\n",
    "                loss='sparse_categorical_crossentropy',\n",
    "                metrics=['accuracy'])\n",
    "\n",
    "model.fit(x_train, y_train, validation_data=(x_val, y_val), epochs=10)"
   ]
  },
  {
   "cell_type": "code",
   "execution_count": 34,
   "metadata": {},
   "outputs": [
    {
     "name": "stdout",
     "output_type": "stream",
     "text": [
      "313/313 - 0s - loss: 1.5078 - accuracy: 0.4665 - 339ms/epoch - 1ms/step\n",
      "Test accuracy: 0.46650001406669617\n"
     ]
    }
   ],
   "source": [
    "test_loss, test_acc = model.evaluate(x_test, y_test, verbose=2)\n",
    "print('Test accuracy:', test_acc)"
   ]
  },
  {
   "cell_type": "markdown",
   "metadata": {},
   "source": [
    "# $ 2. Convolutional Neural Network $"
   ]
  },
  {
   "cell_type": "code",
   "execution_count": 12,
   "metadata": {},
   "outputs": [
    {
     "name": "stdout",
     "output_type": "stream",
     "text": [
      "Epoch 1/10\n",
      "1250/1250 [==============================] - 26s 20ms/step - loss: 1.5433 - accuracy: 0.4399 - val_loss: 1.3982 - val_accuracy: 0.4921\n",
      "Epoch 2/10\n",
      "1250/1250 [==============================] - 26s 21ms/step - loss: 1.1965 - accuracy: 0.5790 - val_loss: 1.1718 - val_accuracy: 0.5803\n",
      "Epoch 3/10\n",
      "1250/1250 [==============================] - 31s 25ms/step - loss: 1.0530 - accuracy: 0.6331 - val_loss: 1.0127 - val_accuracy: 0.6440\n",
      "Epoch 4/10\n",
      "1250/1250 [==============================] - 32s 26ms/step - loss: 0.9576 - accuracy: 0.6683 - val_loss: 1.0091 - val_accuracy: 0.6467\n",
      "Epoch 5/10\n",
      "1250/1250 [==============================] - 27s 22ms/step - loss: 0.8925 - accuracy: 0.6898 - val_loss: 0.9985 - val_accuracy: 0.6509\n",
      "Epoch 6/10\n",
      "1250/1250 [==============================] - 25s 20ms/step - loss: 0.8371 - accuracy: 0.7096 - val_loss: 0.9439 - val_accuracy: 0.6737\n",
      "Epoch 7/10\n",
      "1250/1250 [==============================] - 28s 22ms/step - loss: 0.7840 - accuracy: 0.7281 - val_loss: 0.9671 - val_accuracy: 0.6707\n",
      "Epoch 8/10\n",
      "1250/1250 [==============================] - 30s 24ms/step - loss: 0.7392 - accuracy: 0.7414 - val_loss: 0.9598 - val_accuracy: 0.6762\n",
      "Epoch 9/10\n",
      "1250/1250 [==============================] - 28s 23ms/step - loss: 0.6944 - accuracy: 0.7590 - val_loss: 0.9062 - val_accuracy: 0.6983\n",
      "Epoch 10/10\n",
      "1250/1250 [==============================] - 26s 21ms/step - loss: 0.6619 - accuracy: 0.7693 - val_loss: 0.9245 - val_accuracy: 0.6894\n"
     ]
    },
    {
     "data": {
      "text/plain": [
       "<keras.callbacks.History at 0x25fbe510d00>"
      ]
     },
     "execution_count": 12,
     "metadata": {},
     "output_type": "execute_result"
    }
   ],
   "source": [
    "\n",
    "model = keras.models.Sequential([\n",
    "    keras.layers.Conv2D(32, (3, 3), activation='relu', input_shape=(32, 32, 3)),\n",
    "    keras.layers.MaxPooling2D((2, 2)),\n",
    "    keras.layers.Conv2D(64, (3, 3), activation='relu'),\n",
    "    keras.layers.MaxPooling2D((2, 2)),\n",
    "    keras.layers.Flatten(),\n",
    "    keras.layers.Dense(64, activation='relu'),\n",
    "    keras.layers.Dense(10, activation='softmax')\n",
    "])\n",
    "\n",
    "\n",
    "model.compile(optimizer='adam',\n",
    "                loss='sparse_categorical_crossentropy',\n",
    "                metrics=['accuracy'])\n",
    "\n",
    "model.fit(x_train, y_train, validation_data=(x_val, y_val), epochs=10)\n"
   ]
  },
  {
   "cell_type": "code",
   "execution_count": 13,
   "metadata": {},
   "outputs": [
    {
     "name": "stdout",
     "output_type": "stream",
     "text": [
      "313/313 - 1s - loss: 0.9358 - accuracy: 0.6881 - 1s/epoch - 4ms/step\n",
      "Test accuracy: 0.6880999803543091\n"
     ]
    }
   ],
   "source": [
    "test_loss, test_acc = model.evaluate(x_test, y_test, verbose=2)\n",
    "print('Test accuracy:', test_acc)"
   ]
  },
  {
   "attachments": {},
   "cell_type": "markdown",
   "metadata": {},
   "source": [
    "# $ Analysis $\n",
    "\n",
    " . | Artificial Neural Network | Convolutional Neural Network\n",
    "---|---|----\n",
    "Accuracy | 0.466 | 0.688\n",
    "\n",
    "\n",
    "# $ Efficiency $\n",
    "\n",
    "    CNN is more efficient than ANN in terms of accuracy and time taken to train the model.\n",
    "\n",
    "# $ Simplicity $\n",
    "\n",
    "    Although ANN is Simple to implement, An ANN treats the whole image as a single entity and CNN treats the image as a collection of small entities. \n",
    "    "
   ]
  },
  {
   "cell_type": "markdown",
   "metadata": {},
   "source": []
  }
 ],
 "metadata": {
  "kernelspec": {
   "display_name": "Python 3.10.6 ('DL': venv)",
   "language": "python",
   "name": "python3"
  },
  "language_info": {
   "codemirror_mode": {
    "name": "ipython",
    "version": 3
   },
   "file_extension": ".py",
   "mimetype": "text/x-python",
   "name": "python",
   "nbconvert_exporter": "python",
   "pygments_lexer": "ipython3",
   "version": "3.9.13"
  },
  "orig_nbformat": 4,
  "vscode": {
   "interpreter": {
    "hash": "c6681c3d28458e05160fd010252ee6752c2bb8515cbf826698a018284ab26aad"
   }
  }
 },
 "nbformat": 4,
 "nbformat_minor": 2
}
